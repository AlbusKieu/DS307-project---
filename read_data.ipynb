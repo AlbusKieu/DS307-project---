{
 "cells": [
  {
   "cell_type": "code",
   "execution_count": 24,
   "metadata": {},
   "outputs": [],
   "source": [
    "import pandas as pd\n",
    "import numpy as np"
   ]
  },
  {
   "cell_type": "code",
   "execution_count": 25,
   "metadata": {},
   "outputs": [
    {
     "data": {
      "text/plain": [
       "array([[[0., 0., 0., ..., 0., 1., 1.],\n",
       "        [0., 0., 0., ..., 0., 0., 0.],\n",
       "        [0., 0., 0., ..., 0., 0., 0.],\n",
       "        ...,\n",
       "        [0., 0., 0., ..., 0., 1., 0.],\n",
       "        [1., 0., 0., ..., 1., 0., 0.],\n",
       "        [1., 0., 0., ..., 0., 0., 0.]],\n",
       "\n",
       "       [[0., 0., 0., ..., 0., 0., 0.],\n",
       "        [0., 0., 0., ..., 0., 0., 0.],\n",
       "        [0., 0., 0., ..., 0., 0., 1.],\n",
       "        ...,\n",
       "        [0., 0., 0., ..., 0., 0., 1.],\n",
       "        [0., 0., 0., ..., 0., 0., 0.],\n",
       "        [0., 0., 1., ..., 1., 0., 0.]],\n",
       "\n",
       "       [[0., 0., 0., ..., 0., 1., 1.],\n",
       "        [0., 0., 1., ..., 0., 1., 1.],\n",
       "        [0., 1., 0., ..., 0., 0., 1.],\n",
       "        ...,\n",
       "        [0., 0., 0., ..., 0., 0., 1.],\n",
       "        [1., 1., 0., ..., 0., 0., 1.],\n",
       "        [1., 1., 1., ..., 1., 1., 0.]],\n",
       "\n",
       "       ...,\n",
       "\n",
       "       [[0., 0., 0., ..., 0., 0., 0.],\n",
       "        [0., 0., 0., ..., 1., 0., 0.],\n",
       "        [0., 0., 0., ..., 0., 0., 0.],\n",
       "        ...,\n",
       "        [0., 1., 0., ..., 0., 0., 1.],\n",
       "        [0., 0., 0., ..., 0., 0., 0.],\n",
       "        [0., 0., 0., ..., 1., 0., 0.]],\n",
       "\n",
       "       [[0., 0., 0., ..., 0., 0., 1.],\n",
       "        [0., 0., 1., ..., 0., 0., 1.],\n",
       "        [0., 1., 0., ..., 0., 0., 1.],\n",
       "        ...,\n",
       "        [0., 0., 0., ..., 0., 1., 0.],\n",
       "        [0., 0., 0., ..., 1., 0., 1.],\n",
       "        [1., 1., 1., ..., 0., 1., 0.]],\n",
       "\n",
       "       [[0., 0., 0., ..., 0., 0., 0.],\n",
       "        [0., 0., 0., ..., 0., 0., 0.],\n",
       "        [0., 0., 0., ..., 0., 0., 0.],\n",
       "        ...,\n",
       "        [0., 0., 0., ..., 0., 0., 0.],\n",
       "        [0., 0., 0., ..., 0., 0., 0.],\n",
       "        [0., 0., 0., ..., 0., 0., 0.]]], dtype=float32)"
      ]
     },
     "execution_count": 25,
     "metadata": {},
     "output_type": "execute_result"
    }
   ],
   "source": [
    "file_path = 'C:\\\\Users\\\\ACER\\\\Downloads\\\\DS307\\\\DeepInf-master\\\\DeepInf-master\\\\src\\\\DeepInf\\\\twitter\\\\twitter\\\\adjacency_matrix.npy'\n",
    "\n",
    "# Đọc file\n",
    "array = np.load(file_path)\n",
    "array"
   ]
  },
  {
   "cell_type": "code",
   "execution_count": 26,
   "metadata": {},
   "outputs": [
    {
     "data": {
      "text/plain": [
       "50"
      ]
     },
     "execution_count": 26,
     "metadata": {},
     "output_type": "execute_result"
    }
   ],
   "source": [
    "array[1].shape[0]"
   ]
  },
  {
   "cell_type": "code",
   "execution_count": 27,
   "metadata": {},
   "outputs": [
    {
     "data": {
      "text/plain": [
       "array([[ 79490, 143235,  67076, ..., 143229,  93822, 143215],\n",
       "       [ 91137, 291969,  49415, ..., 246516,  10109,  87167],\n",
       "       [  3521,  20054,  80770, ...,  19723,  20021,  20877],\n",
       "       ...,\n",
       "       [ 30465,      7,  61321, ..., 162810,  28539,  35533],\n",
       "       [277890,  41475, 100228, ..., 126194, 109307, 136484],\n",
       "       [ 33410,   6407,  30985, ..., 290684, 107903, 226666]], dtype=int64)"
      ]
     },
     "execution_count": 27,
     "metadata": {},
     "output_type": "execute_result"
    }
   ],
   "source": [
    "file_path = 'C:\\\\Users\\\\ACER\\\\Downloads\\\\DS307\\\\DeepInf-master\\\\DeepInf-master\\\\src\\\\DeepInf\\\\twitter\\\\twitter\\\\vertex_id.npy'\n",
    "\n",
    "# Đọc file\n",
    "array = np.load(file_path)\n",
    "array"
   ]
  },
  {
   "cell_type": "code",
   "execution_count": 28,
   "metadata": {},
   "outputs": [
    {
     "data": {
      "text/plain": [
       "50"
      ]
     },
     "execution_count": 28,
     "metadata": {},
     "output_type": "execute_result"
    }
   ],
   "source": [
    "array[1].shape[0]"
   ]
  },
  {
   "cell_type": "code",
   "execution_count": 3,
   "metadata": {},
   "outputs": [
    {
     "name": "stdout",
     "output_type": "stream",
     "text": [
      "2.5.1+cpu\n",
      "False\n"
     ]
    }
   ],
   "source": [
    "import torch\n",
    "print(torch.__version__)\n",
    "print(torch.cuda.is_available())"
   ]
  },
  {
   "cell_type": "code",
   "execution_count": 29,
   "metadata": {},
   "outputs": [
    {
     "data": {
      "text/plain": [
       "array([[[0., 0.],\n",
       "        [0., 0.],\n",
       "        [1., 0.],\n",
       "        ...,\n",
       "        [0., 0.],\n",
       "        [1., 0.],\n",
       "        [0., 1.]],\n",
       "\n",
       "       [[1., 0.],\n",
       "        [1., 0.],\n",
       "        [1., 0.],\n",
       "        ...,\n",
       "        [1., 0.],\n",
       "        [0., 0.],\n",
       "        [0., 1.]],\n",
       "\n",
       "       [[1., 0.],\n",
       "        [1., 0.],\n",
       "        [1., 0.],\n",
       "        ...,\n",
       "        [1., 0.],\n",
       "        [1., 0.],\n",
       "        [0., 1.]],\n",
       "\n",
       "       ...,\n",
       "\n",
       "       [[0., 0.],\n",
       "        [0., 0.],\n",
       "        [1., 0.],\n",
       "        ...,\n",
       "        [1., 0.],\n",
       "        [0., 0.],\n",
       "        [0., 1.]],\n",
       "\n",
       "       [[1., 0.],\n",
       "        [1., 0.],\n",
       "        [0., 0.],\n",
       "        ...,\n",
       "        [0., 0.],\n",
       "        [0., 0.],\n",
       "        [0., 1.]],\n",
       "\n",
       "       [[1., 0.],\n",
       "        [0., 0.],\n",
       "        [0., 0.],\n",
       "        ...,\n",
       "        [0., 0.],\n",
       "        [1., 0.],\n",
       "        [0., 1.]]], dtype=float32)"
      ]
     },
     "execution_count": 29,
     "metadata": {},
     "output_type": "execute_result"
    }
   ],
   "source": [
    "file_path = 'C:\\\\Users\\\\ACER\\\\Downloads\\\\DS307\\\\DeepInf-master\\\\DeepInf-master\\\\src\\\\DeepInf\\\\twitter\\\\twitter\\\\influence_feature.npy'\n",
    "\n",
    "# Đọc file\n",
    "array = np.load(file_path)\n",
    "array"
   ]
  },
  {
   "cell_type": "code",
   "execution_count": 30,
   "metadata": {},
   "outputs": [
    {
     "data": {
      "text/plain": [
       "50"
      ]
     },
     "execution_count": 30,
     "metadata": {},
     "output_type": "execute_result"
    }
   ],
   "source": [
    "array[1].shape[0]"
   ]
  },
  {
   "cell_type": "code",
   "execution_count": 31,
   "metadata": {},
   "outputs": [
    {
     "data": {
      "text/plain": [
       "array([1, 0, 0, ..., 0, 0, 0], dtype=int64)"
      ]
     },
     "execution_count": 31,
     "metadata": {},
     "output_type": "execute_result"
    }
   ],
   "source": [
    "file_path = 'C:\\\\Users\\\\ACER\\\\Downloads\\\\DS307\\\\DeepInf-master\\\\DeepInf-master\\\\src\\\\DeepInf\\\\twitter\\\\twitter\\\\label.npy'\n",
    "\n",
    "# Đọc file\n",
    "array = np.load(file_path)\n",
    "array"
   ]
  },
  {
   "cell_type": "code",
   "execution_count": 32,
   "metadata": {},
   "outputs": [
    {
     "data": {
      "text/plain": [
       "0"
      ]
     },
     "execution_count": 32,
     "metadata": {},
     "output_type": "execute_result"
    }
   ],
   "source": [
    "array[1]"
   ]
  },
  {
   "cell_type": "code",
   "execution_count": 33,
   "metadata": {},
   "outputs": [
    {
     "data": {
      "text/plain": [
       "array([[6.13609867e-05, 1.79986203e-06, 8.71131330e-03, ...,\n",
       "        1.14512945e-02, 1.14512945e-02, 9.60000000e+01],\n",
       "       [2.11505922e-04, 6.50876253e-03, 1.54530949e-04, ...,\n",
       "        1.16933430e-01, 1.16933430e-01, 1.25000000e+02],\n",
       "       [6.75675676e-03, 1.02316602e-01, 5.10252917e-06, ...,\n",
       "        4.35673703e-03, 4.35673703e-03, 7.90000000e+01],\n",
       "       ...,\n",
       "       [1.00000000e+00, 0.00000000e+00, 3.28490579e-07, ...,\n",
       "        7.02992187e-18, 7.93136822e-19, 0.00000000e+00],\n",
       "       [1.00000000e+00, 0.00000000e+00, 3.28490579e-07, ...,\n",
       "        7.02992187e-18, 7.93136822e-19, 0.00000000e+00],\n",
       "       [1.00000000e+00, 0.00000000e+00, 3.28490579e-07, ...,\n",
       "        7.02992187e-18, 7.93136822e-19, 0.00000000e+00]])"
      ]
     },
     "execution_count": 33,
     "metadata": {},
     "output_type": "execute_result"
    }
   ],
   "source": [
    "file_path = 'C:\\\\Users\\\\ACER\\\\Downloads\\\\DS307\\\\DeepInf-master\\\\DeepInf-master\\\\src\\\\DeepInf\\\\twitter\\\\twitter\\\\vertex_feature.npy'\n",
    "\n",
    "# Đọc file\n",
    "array = np.load(file_path)\n",
    "array"
   ]
  },
  {
   "cell_type": "code",
   "execution_count": 34,
   "metadata": {},
   "outputs": [
    {
     "data": {
      "text/plain": [
       "7"
      ]
     },
     "execution_count": 34,
     "metadata": {},
     "output_type": "execute_result"
    }
   ],
   "source": [
    "array[1].shape[0]"
   ]
  },
  {
   "cell_type": "code",
   "execution_count": 35,
   "metadata": {},
   "outputs": [
    {
     "data": {
      "text/plain": [
       "array([[ 79490, 143235,  67076, ..., 143229,  93822, 143215],\n",
       "       [ 91137, 291969,  49415, ..., 246516,  10109,  87167],\n",
       "       [  3521,  20054,  80770, ...,  19723,  20021,  20877],\n",
       "       ...,\n",
       "       [ 30465,      7,  61321, ..., 162810,  28539,  35533],\n",
       "       [277890,  41475, 100228, ..., 126194, 109307, 136484],\n",
       "       [ 33410,   6407,  30985, ..., 290684, 107903, 226666]], dtype=int64)"
      ]
     },
     "execution_count": 35,
     "metadata": {},
     "output_type": "execute_result"
    }
   ],
   "source": [
    "file_path = 'C:\\\\Users\\\\ACER\\\\Downloads\\\\DS307\\\\DeepInf-master\\\\DeepInf-master\\\\src\\\\DeepInf\\\\twitter\\\\twitter\\\\vertex_id.npy'\n",
    "\n",
    "# Đọc file\n",
    "array = np.load(file_path)\n",
    "array"
   ]
  },
  {
   "cell_type": "code",
   "execution_count": 36,
   "metadata": {},
   "outputs": [
    {
     "data": {
      "text/plain": [
       "50"
      ]
     },
     "execution_count": 36,
     "metadata": {},
     "output_type": "execute_result"
    }
   ],
   "source": [
    "array[1].shape[0]"
   ]
  }
 ],
 "metadata": {
  "kernelspec": {
   "display_name": "Python 3",
   "language": "python",
   "name": "python3"
  },
  "language_info": {
   "codemirror_mode": {
    "name": "ipython",
    "version": 3
   },
   "file_extension": ".py",
   "mimetype": "text/x-python",
   "name": "python",
   "nbconvert_exporter": "python",
   "pygments_lexer": "ipython3",
   "version": "3.11.9"
  }
 },
 "nbformat": 4,
 "nbformat_minor": 2
}
